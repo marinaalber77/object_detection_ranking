{
 "cells": [
  {
   "cell_type": "code",
   "execution_count": 1,
   "id": "95483a0c",
   "metadata": {},
   "outputs": [
    {
     "name": "stdout",
     "output_type": "stream",
     "text": [
      "Requirement already satisfied: opendatasets in c:\\users\\marin\\anaconda3\\envs\\tf\\lib\\site-packages (0.1.22)\n",
      "Requirement already satisfied: kaggle in c:\\users\\marin\\anaconda3\\envs\\tf\\lib\\site-packages (from opendatasets) (1.5.12)\n",
      "Requirement already satisfied: tqdm in c:\\users\\marin\\anaconda3\\envs\\tf\\lib\\site-packages (from opendatasets) (4.64.0)\n",
      "Requirement already satisfied: click in c:\\users\\marin\\anaconda3\\envs\\tf\\lib\\site-packages (from opendatasets) (8.0.4)\n",
      "Requirement already satisfied: colorama in c:\\users\\marin\\anaconda3\\envs\\tf\\lib\\site-packages (from click->opendatasets) (0.4.4)\n",
      "Requirement already satisfied: requests in c:\\users\\marin\\anaconda3\\envs\\tf\\lib\\site-packages (from kaggle->opendatasets) (2.27.1)\n",
      "Requirement already satisfied: urllib3 in c:\\users\\marin\\anaconda3\\envs\\tf\\lib\\site-packages (from kaggle->opendatasets) (1.26.9)\n",
      "Requirement already satisfied: certifi in c:\\users\\marin\\anaconda3\\envs\\tf\\lib\\site-packages (from kaggle->opendatasets) (2022.5.18.1)\n",
      "Requirement already satisfied: python-dateutil in c:\\users\\marin\\anaconda3\\envs\\tf\\lib\\site-packages (from kaggle->opendatasets) (2.8.2)\n",
      "Requirement already satisfied: six>=1.10 in c:\\users\\marin\\anaconda3\\envs\\tf\\lib\\site-packages (from kaggle->opendatasets) (1.16.0)\n",
      "Requirement already satisfied: python-slugify in c:\\users\\marin\\anaconda3\\envs\\tf\\lib\\site-packages (from kaggle->opendatasets) (6.1.2)\n",
      "Requirement already satisfied: text-unidecode>=1.3 in c:\\users\\marin\\anaconda3\\envs\\tf\\lib\\site-packages (from python-slugify->kaggle->opendatasets) (1.3)\n",
      "Requirement already satisfied: charset-normalizer~=2.0.0 in c:\\users\\marin\\anaconda3\\envs\\tf\\lib\\site-packages (from requests->kaggle->opendatasets) (2.0.4)\n",
      "Requirement already satisfied: idna<4,>=2.5 in c:\\users\\marin\\anaconda3\\envs\\tf\\lib\\site-packages (from requests->kaggle->opendatasets) (3.3)\n"
     ]
    },
    {
     "name": "stderr",
     "output_type": "stream",
     "text": [
      "WARNING: There was an error checking the latest version of pip.\n"
     ]
    }
   ],
   "source": [
    "!pip install opendatasets"
   ]
  },
  {
   "cell_type": "code",
   "execution_count": 2,
   "id": "b9215eda",
   "metadata": {},
   "outputs": [],
   "source": [
    "import opendatasets as od"
   ]
  },
  {
   "cell_type": "code",
   "execution_count": 3,
   "id": "f257a62c",
   "metadata": {},
   "outputs": [],
   "source": [
    "dataset = 'https://www.kaggle.com/datasets/athota1/caltech101'"
   ]
  },
  {
   "cell_type": "code",
   "execution_count": 4,
   "id": "2d13060b",
   "metadata": {},
   "outputs": [
    {
     "name": "stdout",
     "output_type": "stream",
     "text": [
      "Skipping, found downloaded files in \".\\caltech101\" (use force=True to force download)\n"
     ]
    }
   ],
   "source": [
    "od.download(dataset)\n",
    "\n",
    "#{\"username\":\"marinaalber\",\"key\":\"78c1e230814100c1e8520ed14a3c218d\"}"
   ]
  },
  {
   "cell_type": "code",
   "execution_count": 6,
   "id": "6c9fc85f",
   "metadata": {},
   "outputs": [],
   "source": [
    "import os"
   ]
  },
  {
   "cell_type": "code",
   "execution_count": 5,
   "id": "e03a6029",
   "metadata": {},
   "outputs": [],
   "source": [
    "data_dir = '.\\caltech101'"
   ]
  },
  {
   "cell_type": "code",
   "execution_count": null,
   "id": "254a0e38",
   "metadata": {},
   "outputs": [],
   "source": []
  }
 ],
 "metadata": {
  "kernelspec": {
   "display_name": "Python 3 (ipykernel)",
   "language": "python",
   "name": "python3"
  },
  "language_info": {
   "codemirror_mode": {
    "name": "ipython",
    "version": 3
   },
   "file_extension": ".py",
   "mimetype": "text/x-python",
   "name": "python",
   "nbconvert_exporter": "python",
   "pygments_lexer": "ipython3",
   "version": "3.9.12"
  }
 },
 "nbformat": 4,
 "nbformat_minor": 5
}
